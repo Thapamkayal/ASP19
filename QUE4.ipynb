{
 "cells": [
  {
   "cell_type": "code",
   "execution_count": 1,
   "id": "49594dc0",
   "metadata": {},
   "outputs": [],
   "source": [
    "import pandas as pd\n",
    "import numpy as np\n",
    "import matplotlib.pyplot as plt"
   ]
  },
  {
   "cell_type": "code",
   "execution_count": 2,
   "id": "c18e7dd6",
   "metadata": {},
   "outputs": [],
   "source": [
    "df = pd.read_csv(\"pulsar-stars.csv\") "
   ]
  },
  {
   "cell_type": "code",
   "execution_count": 3,
   "id": "70746cde",
   "metadata": {},
   "outputs": [
    {
     "data": {
      "text/plain": [
       "(17898, 9)"
      ]
     },
     "execution_count": 3,
     "metadata": {},
     "output_type": "execute_result"
    }
   ],
   "source": [
    "df.head()\n",
    "df.shape"
   ]
  },
  {
   "cell_type": "code",
   "execution_count": 4,
   "id": "18ea7bee",
   "metadata": {},
   "outputs": [],
   "source": [
    "X = df.drop('target_class',axis=1)\n",
    "y = df.target_class"
   ]
  },
  {
   "cell_type": "code",
   "execution_count": 5,
   "id": "5370e6cf",
   "metadata": {},
   "outputs": [
    {
     "data": {
      "text/plain": [
       " Mean of the integrated profile                  0\n",
       " Standard deviation of the integrated profile    0\n",
       " Excess kurtosis of the integrated profile       0\n",
       " Skewness of the integrated profile              0\n",
       " Mean of the DM-SNR curve                        0\n",
       " Standard deviation of the DM-SNR curve          0\n",
       " Excess kurtosis of the DM-SNR curve             0\n",
       " Skewness of the DM-SNR curve                    0\n",
       "target_class                                     0\n",
       "dtype: int64"
      ]
     },
     "execution_count": 5,
     "metadata": {},
     "output_type": "execute_result"
    }
   ],
   "source": [
    "df.isnull().sum()"
   ]
  },
  {
   "cell_type": "code",
   "execution_count": 6,
   "id": "106904e4",
   "metadata": {},
   "outputs": [
    {
     "data": {
      "text/plain": [
       "(17898, 9)"
      ]
     },
     "execution_count": 6,
     "metadata": {},
     "output_type": "execute_result"
    }
   ],
   "source": [
    "df.shape"
   ]
  },
  {
   "cell_type": "code",
   "execution_count": 7,
   "id": "9301dd31",
   "metadata": {},
   "outputs": [
    {
     "data": {
      "text/html": [
       "<div>\n",
       "<style scoped>\n",
       "    .dataframe tbody tr th:only-of-type {\n",
       "        vertical-align: middle;\n",
       "    }\n",
       "\n",
       "    .dataframe tbody tr th {\n",
       "        vertical-align: top;\n",
       "    }\n",
       "\n",
       "    .dataframe thead th {\n",
       "        text-align: right;\n",
       "    }\n",
       "</style>\n",
       "<table border=\"1\" class=\"dataframe\">\n",
       "  <thead>\n",
       "    <tr style=\"text-align: right;\">\n",
       "      <th></th>\n",
       "      <th>IP_Mean</th>\n",
       "      <th>IP_std</th>\n",
       "      <th>IP_Excess_kurtosis</th>\n",
       "      <th>IP_Skewness</th>\n",
       "      <th>DM_SNR_Mean</th>\n",
       "      <th>DM_SNR_std</th>\n",
       "      <th>DM_SNR_kurtosis</th>\n",
       "      <th>DM_SNR_Skewness</th>\n",
       "      <th>Target</th>\n",
       "    </tr>\n",
       "  </thead>\n",
       "  <tbody>\n",
       "    <tr>\n",
       "      <th>0</th>\n",
       "      <td>140.562500</td>\n",
       "      <td>55.683782</td>\n",
       "      <td>-0.234571</td>\n",
       "      <td>-0.699648</td>\n",
       "      <td>3.199833</td>\n",
       "      <td>19.110426</td>\n",
       "      <td>7.975532</td>\n",
       "      <td>74.242225</td>\n",
       "      <td>0</td>\n",
       "    </tr>\n",
       "    <tr>\n",
       "      <th>1</th>\n",
       "      <td>102.507812</td>\n",
       "      <td>58.882430</td>\n",
       "      <td>0.465318</td>\n",
       "      <td>-0.515088</td>\n",
       "      <td>1.677258</td>\n",
       "      <td>14.860146</td>\n",
       "      <td>10.576487</td>\n",
       "      <td>127.393580</td>\n",
       "      <td>0</td>\n",
       "    </tr>\n",
       "    <tr>\n",
       "      <th>2</th>\n",
       "      <td>103.015625</td>\n",
       "      <td>39.341649</td>\n",
       "      <td>0.323328</td>\n",
       "      <td>1.051164</td>\n",
       "      <td>3.121237</td>\n",
       "      <td>21.744669</td>\n",
       "      <td>7.735822</td>\n",
       "      <td>63.171909</td>\n",
       "      <td>0</td>\n",
       "    </tr>\n",
       "    <tr>\n",
       "      <th>3</th>\n",
       "      <td>136.750000</td>\n",
       "      <td>57.178449</td>\n",
       "      <td>-0.068415</td>\n",
       "      <td>-0.636238</td>\n",
       "      <td>3.642977</td>\n",
       "      <td>20.959280</td>\n",
       "      <td>6.896499</td>\n",
       "      <td>53.593661</td>\n",
       "      <td>0</td>\n",
       "    </tr>\n",
       "    <tr>\n",
       "      <th>4</th>\n",
       "      <td>88.726562</td>\n",
       "      <td>40.672225</td>\n",
       "      <td>0.600866</td>\n",
       "      <td>1.123492</td>\n",
       "      <td>1.178930</td>\n",
       "      <td>11.468720</td>\n",
       "      <td>14.269573</td>\n",
       "      <td>252.567306</td>\n",
       "      <td>0</td>\n",
       "    </tr>\n",
       "    <tr>\n",
       "      <th>...</th>\n",
       "      <td>...</td>\n",
       "      <td>...</td>\n",
       "      <td>...</td>\n",
       "      <td>...</td>\n",
       "      <td>...</td>\n",
       "      <td>...</td>\n",
       "      <td>...</td>\n",
       "      <td>...</td>\n",
       "      <td>...</td>\n",
       "    </tr>\n",
       "    <tr>\n",
       "      <th>17893</th>\n",
       "      <td>136.429688</td>\n",
       "      <td>59.847421</td>\n",
       "      <td>-0.187846</td>\n",
       "      <td>-0.738123</td>\n",
       "      <td>1.296823</td>\n",
       "      <td>12.166062</td>\n",
       "      <td>15.450260</td>\n",
       "      <td>285.931022</td>\n",
       "      <td>0</td>\n",
       "    </tr>\n",
       "    <tr>\n",
       "      <th>17894</th>\n",
       "      <td>122.554688</td>\n",
       "      <td>49.485605</td>\n",
       "      <td>0.127978</td>\n",
       "      <td>0.323061</td>\n",
       "      <td>16.409699</td>\n",
       "      <td>44.626893</td>\n",
       "      <td>2.945244</td>\n",
       "      <td>8.297092</td>\n",
       "      <td>0</td>\n",
       "    </tr>\n",
       "    <tr>\n",
       "      <th>17895</th>\n",
       "      <td>119.335938</td>\n",
       "      <td>59.935939</td>\n",
       "      <td>0.159363</td>\n",
       "      <td>-0.743025</td>\n",
       "      <td>21.430602</td>\n",
       "      <td>58.872000</td>\n",
       "      <td>2.499517</td>\n",
       "      <td>4.595173</td>\n",
       "      <td>0</td>\n",
       "    </tr>\n",
       "    <tr>\n",
       "      <th>17896</th>\n",
       "      <td>114.507812</td>\n",
       "      <td>53.902400</td>\n",
       "      <td>0.201161</td>\n",
       "      <td>-0.024789</td>\n",
       "      <td>1.946488</td>\n",
       "      <td>13.381731</td>\n",
       "      <td>10.007967</td>\n",
       "      <td>134.238910</td>\n",
       "      <td>0</td>\n",
       "    </tr>\n",
       "    <tr>\n",
       "      <th>17897</th>\n",
       "      <td>57.062500</td>\n",
       "      <td>85.797340</td>\n",
       "      <td>1.406391</td>\n",
       "      <td>0.089520</td>\n",
       "      <td>188.306020</td>\n",
       "      <td>64.712562</td>\n",
       "      <td>-1.597527</td>\n",
       "      <td>1.429475</td>\n",
       "      <td>0</td>\n",
       "    </tr>\n",
       "  </tbody>\n",
       "</table>\n",
       "<p>17898 rows × 9 columns</p>\n",
       "</div>"
      ],
      "text/plain": [
       "          IP_Mean     IP_std  IP_Excess_kurtosis  IP_Skewness  DM_SNR_Mean  \\\n",
       "0      140.562500  55.683782           -0.234571    -0.699648     3.199833   \n",
       "1      102.507812  58.882430            0.465318    -0.515088     1.677258   \n",
       "2      103.015625  39.341649            0.323328     1.051164     3.121237   \n",
       "3      136.750000  57.178449           -0.068415    -0.636238     3.642977   \n",
       "4       88.726562  40.672225            0.600866     1.123492     1.178930   \n",
       "...           ...        ...                 ...          ...          ...   \n",
       "17893  136.429688  59.847421           -0.187846    -0.738123     1.296823   \n",
       "17894  122.554688  49.485605            0.127978     0.323061    16.409699   \n",
       "17895  119.335938  59.935939            0.159363    -0.743025    21.430602   \n",
       "17896  114.507812  53.902400            0.201161    -0.024789     1.946488   \n",
       "17897   57.062500  85.797340            1.406391     0.089520   188.306020   \n",
       "\n",
       "       DM_SNR_std  DM_SNR_kurtosis  DM_SNR_Skewness  Target  \n",
       "0       19.110426         7.975532        74.242225       0  \n",
       "1       14.860146        10.576487       127.393580       0  \n",
       "2       21.744669         7.735822        63.171909       0  \n",
       "3       20.959280         6.896499        53.593661       0  \n",
       "4       11.468720        14.269573       252.567306       0  \n",
       "...           ...              ...              ...     ...  \n",
       "17893   12.166062        15.450260       285.931022       0  \n",
       "17894   44.626893         2.945244         8.297092       0  \n",
       "17895   58.872000         2.499517         4.595173       0  \n",
       "17896   13.381731        10.007967       134.238910       0  \n",
       "17897   64.712562        -1.597527         1.429475       0  \n",
       "\n",
       "[17898 rows x 9 columns]"
      ]
     },
     "execution_count": 7,
     "metadata": {},
     "output_type": "execute_result"
    }
   ],
   "source": [
    "new_df = pd.DataFrame()\n",
    "new_df['IP_Mean'] = df.iloc[:,0]\n",
    "new_df['IP_std'] = df.iloc[:,1]\n",
    "new_df['IP_Excess_kurtosis'] = df.iloc[:,2]\n",
    "new_df['IP_Skewness'] = df.iloc[:,3]\n",
    "new_df['DM_SNR_Mean'] = df.iloc[:,4]\n",
    "new_df['DM_SNR_std'] = df.iloc[:,5]\n",
    "new_df['DM_SNR_kurtosis'] = df.iloc[:,6]\n",
    "new_df['DM_SNR_Skewness'] = df.iloc[:,7]\n",
    "new_df['Target'] = df.iloc[:,8]\n",
    "new_df"
   ]
  },
  {
   "cell_type": "code",
   "execution_count": 8,
   "id": "228011ff",
   "metadata": {},
   "outputs": [],
   "source": [
    "X = new_df.drop('Target',axis=1)\n",
    "y = new_df.Target"
   ]
  },
  {
   "cell_type": "code",
   "execution_count": 9,
   "id": "09039d0e",
   "metadata": {},
   "outputs": [
    {
     "data": {
      "text/plain": [
       "IP_Mean               0\n",
       "IP_std                0\n",
       "IP_Excess_kurtosis    0\n",
       "IP_Skewness           0\n",
       "DM_SNR_Mean           0\n",
       "DM_SNR_std            0\n",
       "DM_SNR_kurtosis       0\n",
       "DM_SNR_Skewness       0\n",
       "Target                0\n",
       "dtype: int64"
      ]
     },
     "execution_count": 9,
     "metadata": {},
     "output_type": "execute_result"
    }
   ],
   "source": [
    "distribution_of_the_target_class = y.value_counts()\n",
    "distribution_of_the_target_class\n",
    "new_df.isnull().sum()"
   ]
  },
  {
   "cell_type": "code",
   "execution_count": 10,
   "id": "100af61f",
   "metadata": {},
   "outputs": [],
   "source": [
    "import matplotlib.pyplot as plt"
   ]
  },
  {
   "cell_type": "code",
   "execution_count": 11,
   "id": "cf44814d",
   "metadata": {},
   "outputs": [
    {
     "data": {
      "text/plain": [
       "<Figure size 800x900 with 0 Axes>"
      ]
     },
     "metadata": {},
     "output_type": "display_data"
    },
    {
     "data": {
      "image/png": "[encoded data removed]",
      "text/plain": [
       "<Figure size 640x480 with 9 Axes>"
      ]
     },
     "metadata": {},
     "output_type": "display_data"
    }
   ],
   "source": [
    "plt.figure(figsize=(8,9))\n",
    "new_df.hist();\n",
    "plt.subplots_adjust(hspace=0.7, wspace=0.5)"
   ]
  },
  {
   "cell_type": "code",
   "execution_count": 12,
   "id": "277919ce",
   "metadata": {},
   "outputs": [],
   "source": [
    "from sklearn.model_selection import train_test_split"
   ]
  },
  {
   "cell_type": "code",
   "execution_count": 13,
   "id": "e43c4b5b",
   "metadata": {},
   "outputs": [],
   "source": [
    "X_train,X_test,y_train,y_test = train_test_split(X,y,test_size = 0.3,random_state = 4)\n"
   ]
  },
  {
   "cell_type": "code",
   "execution_count": 14,
   "id": "d6463ee0",
   "metadata": {},
   "outputs": [
    {
     "data": {
      "text/html": [
       "<div>\n",
       "<style scoped>\n",
       "    .dataframe tbody tr th:only-of-type {\n",
       "        vertical-align: middle;\n",
       "    }\n",
       "\n",
       "    .dataframe tbody tr th {\n",
       "        vertical-align: top;\n",
       "    }\n",
       "\n",
       "    .dataframe thead th {\n",
       "        text-align: right;\n",
       "    }\n",
       "</style>\n",
       "<table border=\"1\" class=\"dataframe\">\n",
       "  <thead>\n",
       "    <tr style=\"text-align: right;\">\n",
       "      <th></th>\n",
       "      <th>IP_Mean</th>\n",
       "      <th>IP_std</th>\n",
       "      <th>IP_Excess_kurtosis</th>\n",
       "      <th>IP_Skewness</th>\n",
       "      <th>DM_SNR_Mean</th>\n",
       "      <th>DM_SNR_std</th>\n",
       "      <th>DM_SNR_kurtosis</th>\n",
       "      <th>DM_SNR_Skewness</th>\n",
       "    </tr>\n",
       "  </thead>\n",
       "  <tbody>\n",
       "    <tr>\n",
       "      <th>IP_Mean</th>\n",
       "      <td>1.000000</td>\n",
       "      <td>0.555476</td>\n",
       "      <td>-0.872750</td>\n",
       "      <td>-0.737306</td>\n",
       "      <td>-0.295808</td>\n",
       "      <td>-0.302581</td>\n",
       "      <td>0.231370</td>\n",
       "      <td>0.142441</td>\n",
       "    </tr>\n",
       "    <tr>\n",
       "      <th>IP_std</th>\n",
       "      <td>0.555476</td>\n",
       "      <td>1.000000</td>\n",
       "      <td>-0.528687</td>\n",
       "      <td>-0.543673</td>\n",
       "      <td>-0.001772</td>\n",
       "      <td>-0.054160</td>\n",
       "      <td>0.033102</td>\n",
       "      <td>0.028738</td>\n",
       "    </tr>\n",
       "    <tr>\n",
       "      <th>IP_Excess_kurtosis</th>\n",
       "      <td>-0.872750</td>\n",
       "      <td>-0.528687</td>\n",
       "      <td>1.000000</td>\n",
       "      <td>0.946210</td>\n",
       "      <td>0.414275</td>\n",
       "      <td>0.431562</td>\n",
       "      <td>-0.341319</td>\n",
       "      <td>-0.216255</td>\n",
       "    </tr>\n",
       "    <tr>\n",
       "      <th>IP_Skewness</th>\n",
       "      <td>-0.737306</td>\n",
       "      <td>-0.543673</td>\n",
       "      <td>0.946210</td>\n",
       "      <td>1.000000</td>\n",
       "      <td>0.416031</td>\n",
       "      <td>0.416783</td>\n",
       "      <td>-0.330500</td>\n",
       "      <td>-0.207519</td>\n",
       "    </tr>\n",
       "    <tr>\n",
       "      <th>DM_SNR_Mean</th>\n",
       "      <td>-0.295808</td>\n",
       "      <td>-0.001772</td>\n",
       "      <td>0.414275</td>\n",
       "      <td>0.416031</td>\n",
       "      <td>1.000000</td>\n",
       "      <td>0.795948</td>\n",
       "      <td>-0.617323</td>\n",
       "      <td>-0.358922</td>\n",
       "    </tr>\n",
       "    <tr>\n",
       "      <th>DM_SNR_std</th>\n",
       "      <td>-0.302581</td>\n",
       "      <td>-0.054160</td>\n",
       "      <td>0.431562</td>\n",
       "      <td>0.416783</td>\n",
       "      <td>0.795948</td>\n",
       "      <td>1.000000</td>\n",
       "      <td>-0.812440</td>\n",
       "      <td>-0.582631</td>\n",
       "    </tr>\n",
       "    <tr>\n",
       "      <th>DM_SNR_kurtosis</th>\n",
       "      <td>0.231370</td>\n",
       "      <td>0.033102</td>\n",
       "      <td>-0.341319</td>\n",
       "      <td>-0.330500</td>\n",
       "      <td>-0.617323</td>\n",
       "      <td>-0.812440</td>\n",
       "      <td>1.000000</td>\n",
       "      <td>0.925384</td>\n",
       "    </tr>\n",
       "    <tr>\n",
       "      <th>DM_SNR_Skewness</th>\n",
       "      <td>0.142441</td>\n",
       "      <td>0.028738</td>\n",
       "      <td>-0.216255</td>\n",
       "      <td>-0.207519</td>\n",
       "      <td>-0.358922</td>\n",
       "      <td>-0.582631</td>\n",
       "      <td>0.925384</td>\n",
       "      <td>1.000000</td>\n",
       "    </tr>\n",
       "  </tbody>\n",
       "</table>\n",
       "</div>"
      ],
      "text/plain": [
       "                     IP_Mean    IP_std  IP_Excess_kurtosis  IP_Skewness  \\\n",
       "IP_Mean             1.000000  0.555476           -0.872750    -0.737306   \n",
       "IP_std              0.555476  1.000000           -0.528687    -0.543673   \n",
       "IP_Excess_kurtosis -0.872750 -0.528687            1.000000     0.946210   \n",
       "IP_Skewness        -0.737306 -0.543673            0.946210     1.000000   \n",
       "DM_SNR_Mean        -0.295808 -0.001772            0.414275     0.416031   \n",
       "DM_SNR_std         -0.302581 -0.054160            0.431562     0.416783   \n",
       "DM_SNR_kurtosis     0.231370  0.033102           -0.341319    -0.330500   \n",
       "DM_SNR_Skewness     0.142441  0.028738           -0.216255    -0.207519   \n",
       "\n",
       "                    DM_SNR_Mean  DM_SNR_std  DM_SNR_kurtosis  DM_SNR_Skewness  \n",
       "IP_Mean               -0.295808   -0.302581         0.231370         0.142441  \n",
       "IP_std                -0.001772   -0.054160         0.033102         0.028738  \n",
       "IP_Excess_kurtosis     0.414275    0.431562        -0.341319        -0.216255  \n",
       "IP_Skewness            0.416031    0.416783        -0.330500        -0.207519  \n",
       "DM_SNR_Mean            1.000000    0.795948        -0.617323        -0.358922  \n",
       "DM_SNR_std             0.795948    1.000000        -0.812440        -0.582631  \n",
       "DM_SNR_kurtosis       -0.617323   -0.812440         1.000000         0.925384  \n",
       "DM_SNR_Skewness       -0.358922   -0.582631         0.925384         1.000000  "
      ]
     },
     "execution_count": 14,
     "metadata": {},
     "output_type": "execute_result"
    }
   ],
   "source": [
    "corr_mat = X_train.corr()\n",
    "corr_mat"
   ]
  },
  {
   "cell_type": "code",
   "execution_count": null,
   "id": "4ea2a873",
   "metadata": {},
   "outputs": [],
   "source": [
    "\n"
   ]
  },
  {
   "cell_type": "code",
   "execution_count": 23,
   "id": "eccb75cd",
   "metadata": {},
   "outputs": [],
   "source": [
    "from sklearn import svm\n",
    "default_model = svm.SVC(kernel='rbf')\n",
    "default_model.fit(X_train, y_train)\n",
    "predicted_val=default_model.predict(X_test)"
   ]
  },
  {
   "cell_type": "code",
   "execution_count": null,
   "id": "4f26020c",
   "metadata": {},
   "outputs": [],
   "source": []
  },
  {
   "cell_type": "code",
   "execution_count": 26,
   "id": "6b634de8",
   "metadata": {},
   "outputs": [
    {
     "name": "stdout",
     "output_type": "stream",
     "text": [
      "Model accuracy: 0.9733705772811918\n"
     ]
    }
   ],
   "source": [
    "from sklearn.metrics import f1_score\n",
    "default_accuracy = accuracy_score(y_test, default_model.predict(X_test))\n",
    "print(\"Model accuracy:\", default_accuracy)"
   ]
  },
  {
   "cell_type": "code",
   "execution_count": 27,
   "id": "be852a0b",
   "metadata": {},
   "outputs": [],
   "source": [
    "model11 = svm.SVC(kernel = 'rbf',C=100)\n",
    "model12 = svm.SVC(kernel = 'rbf',C=1000)\n",
    "\n",
    "mode21 = svm.SVC(kernel = 'linear',C=1.0)\n",
    "mode22 = svm.SVC(kernel = 'linear',C=100.0)\n",
    "mode23 = svm.SVC(kernel = 'linear',C=1000.0)\n",
    "\n",
    "mode31 = svm.SVC(kernel = 'poly',C=1.0)\n",
    "mode32 = svm.SVC(kernel = 'poly',C=100.0)\n",
    "\n",
    "mode41 = svm.SVC(kernel = 'sigmoid',C=1.0)\n",
    "mode42 = svm.SVC(kernel = 'sigmoid',C=100)"
   ]
  },
  {
   "cell_type": "code",
   "execution_count": null,
   "id": "efef695d",
   "metadata": {},
   "outputs": [
    {
     "name": "stdout",
     "output_type": "stream",
     "text": [
      "Accuracy of the model SVC(C=100) is : 0.979\n",
      "Accuracy of the model SVC(C=1000) is : 0.981\n",
      "Accuracy of the model SVC(kernel='linear') is : 0.980\n",
      "Accuracy of the model SVC(C=100.0, kernel='linear') is : 0.980\n"
     ]
    }
   ],
   "source": [
    "models = [model11,model12,mode21,mode22,mode23,mode32,mode41,mode42]\n",
    "\n",
    "for model in models:\n",
    "    model.fit(X_train,y_train)\n",
    "    predict=model.predict(X_test)\n",
    "    print(f\"Accuracy of the model {model} is : {f1_score(y_test,predict,average='weighted'):.3f}\")"
   ]
  },
  {
   "cell_type": "code",
   "execution_count": null,
   "id": "895f6d5d",
   "metadata": {},
   "outputs": [],
   "source": [
    "accuracies = []\n",
    "for parameter in parameters:\n",
    "    model = SVC(kernel=parameter[\"kernel\"], C=parameter[\"C\"])\n",
    "    model.fit(X_train, y_train)\n",
    "    accuracy = accuracy_score(y_test, model.predict(X_test))\n",
    "    accuracies.append(accuracy)"
   ]
  },
  {
   "cell_type": "code",
   "execution_count": null,
   "id": "e7a2e538",
   "metadata": {},
   "outputs": [],
   "source": [
    "best_accuracy = max(accuracies)\n",
    "best_model_index = accuracies.index(best_accuracy)\n",
    "best_model_params = parameters[best_model_index]"
   ]
  },
  {
   "cell_type": "code",
   "execution_count": null,
   "id": "801894b7",
   "metadata": {},
   "outputs": [],
   "source": [
    "print(\"Best model parameters:\", best_model_params)\n",
    "print(\"Justification: The model with parameters\", best_model_params, \"achieved the highest accuracy of\", best_accuracy)"
   ]
  },
  {
   "cell_type": "code",
   "execution_count": null,
   "id": "b1f18ac9",
   "metadata": {},
   "outputs": [],
   "source": []
  }
 ],
 "metadata": {
  "kernelspec": {
   "display_name": "Python 3 (ipykernel)",
   "language": "python",
   "name": "python3"
  },
  "language_info": {
   "codemirror_mode": {
    "name": "ipython",
    "version": 3
   },
   "file_extension": ".py",
   "mimetype": "text/x-python",
   "name": "python",
   "nbconvert_exporter": "python",
   "pygments_lexer": "ipython3",
   "version": "3.10.9"
  }
 },
 "nbformat": 4,
 "nbformat_minor": 5
}
